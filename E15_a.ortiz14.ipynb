{
 "cells": [
  {
   "cell_type": "markdown",
   "metadata": {},
   "source": [
    "# Exercise 15\n",
    "\n",
    "# Fraud Detection"
   ]
  },
  {
   "cell_type": "markdown",
   "metadata": {},
   "source": [
    "## Introduction\n",
    "\n",
    "- Fraud Detection Dataset from Microsoft Azure: [data](http://gallery.cortanaintelligence.com/Experiment/8e9fe4e03b8b4c65b9ca947c72b8e463)\n",
    "\n",
    "Fraud detection is one of the earliest industrial applications of data mining and machine learning. Fraud detection is typically handled as a binary classification problem, but the class population is unbalanced because instances of fraud are usually very rare compared to the overall volume of transactions. Moreover, when fraudulent transactions are discovered, the business typically takes measures to block the accounts from transacting to prevent further losses. "
   ]
  },
  {
   "cell_type": "code",
   "execution_count": 183,
   "metadata": {},
   "outputs": [],
   "source": [
    "%matplotlib inline\n",
    "import pandas as pd\n",
    "import numpy as np\n",
    "from sklearn.model_selection import cross_val_score\n",
    "from sklearn.linear_model import LogisticRegression\n",
    "from sklearn.tree import DecisionTreeClassifier\n",
    "from sklearn import metrics\n",
    "import warnings \n",
    "import pandas as pd\n",
    "warnings.filterwarnings('ignore')\n",
    "from sklearn.model_selection import train_test_split\n",
    "from sklearn.decomposition import PCA\n",
    "import matplotlib.pyplot as plt\n",
    "from collections import Counter\n",
    "from imblearn.over_sampling import ADASYN\n",
    "from sklearn.ensemble import RandomForestClassifier\n",
    "import random"
   ]
  },
  {
   "cell_type": "code",
   "execution_count": 184,
   "metadata": {},
   "outputs": [
    {
     "data": {
      "text/html": [
       "<div>\n",
       "<style scoped>\n",
       "    .dataframe tbody tr th:only-of-type {\n",
       "        vertical-align: middle;\n",
       "    }\n",
       "\n",
       "    .dataframe tbody tr th {\n",
       "        vertical-align: top;\n",
       "    }\n",
       "\n",
       "    .dataframe thead th {\n",
       "        text-align: right;\n",
       "    }\n",
       "</style>\n",
       "<table border=\"1\" class=\"dataframe\">\n",
       "  <thead>\n",
       "    <tr style=\"text-align: right;\">\n",
       "      <th></th>\n",
       "      <th>accountAge</th>\n",
       "      <th>digitalItemCount</th>\n",
       "      <th>sumPurchaseCount1Day</th>\n",
       "      <th>sumPurchaseAmount1Day</th>\n",
       "      <th>sumPurchaseAmount30Day</th>\n",
       "      <th>paymentBillingPostalCode - LogOddsForClass_0</th>\n",
       "      <th>accountPostalCode - LogOddsForClass_0</th>\n",
       "      <th>paymentBillingState - LogOddsForClass_0</th>\n",
       "      <th>accountState - LogOddsForClass_0</th>\n",
       "      <th>paymentInstrumentAgeInAccount</th>\n",
       "      <th>ipState - LogOddsForClass_0</th>\n",
       "      <th>transactionAmount</th>\n",
       "      <th>transactionAmountUSD</th>\n",
       "      <th>ipPostalCode - LogOddsForClass_0</th>\n",
       "      <th>localHour - LogOddsForClass_0</th>\n",
       "      <th>Label</th>\n",
       "    </tr>\n",
       "  </thead>\n",
       "  <tbody>\n",
       "    <tr>\n",
       "      <th>0</th>\n",
       "      <td>2000</td>\n",
       "      <td>0</td>\n",
       "      <td>0</td>\n",
       "      <td>0.00</td>\n",
       "      <td>720.25</td>\n",
       "      <td>5.064533</td>\n",
       "      <td>0.421214</td>\n",
       "      <td>1.312186</td>\n",
       "      <td>0.566395</td>\n",
       "      <td>3279.574306</td>\n",
       "      <td>1.218157</td>\n",
       "      <td>599.00</td>\n",
       "      <td>626.164650</td>\n",
       "      <td>1.259543</td>\n",
       "      <td>4.745402</td>\n",
       "      <td>0</td>\n",
       "    </tr>\n",
       "    <tr>\n",
       "      <th>1</th>\n",
       "      <td>62</td>\n",
       "      <td>1</td>\n",
       "      <td>1</td>\n",
       "      <td>1185.44</td>\n",
       "      <td>2530.37</td>\n",
       "      <td>0.538996</td>\n",
       "      <td>0.481838</td>\n",
       "      <td>4.401370</td>\n",
       "      <td>4.500157</td>\n",
       "      <td>61.970139</td>\n",
       "      <td>4.035601</td>\n",
       "      <td>1185.44</td>\n",
       "      <td>1185.440000</td>\n",
       "      <td>3.981118</td>\n",
       "      <td>4.921349</td>\n",
       "      <td>0</td>\n",
       "    </tr>\n",
       "    <tr>\n",
       "      <th>2</th>\n",
       "      <td>2000</td>\n",
       "      <td>0</td>\n",
       "      <td>0</td>\n",
       "      <td>0.00</td>\n",
       "      <td>0.00</td>\n",
       "      <td>5.064533</td>\n",
       "      <td>5.096396</td>\n",
       "      <td>3.056357</td>\n",
       "      <td>3.155226</td>\n",
       "      <td>0.000000</td>\n",
       "      <td>3.314186</td>\n",
       "      <td>32.09</td>\n",
       "      <td>32.090000</td>\n",
       "      <td>5.008490</td>\n",
       "      <td>4.742303</td>\n",
       "      <td>0</td>\n",
       "    </tr>\n",
       "    <tr>\n",
       "      <th>3</th>\n",
       "      <td>1</td>\n",
       "      <td>1</td>\n",
       "      <td>0</td>\n",
       "      <td>0.00</td>\n",
       "      <td>0.00</td>\n",
       "      <td>5.064533</td>\n",
       "      <td>5.096396</td>\n",
       "      <td>3.331154</td>\n",
       "      <td>3.331239</td>\n",
       "      <td>0.000000</td>\n",
       "      <td>3.529398</td>\n",
       "      <td>133.28</td>\n",
       "      <td>132.729554</td>\n",
       "      <td>1.324925</td>\n",
       "      <td>4.745402</td>\n",
       "      <td>0</td>\n",
       "    </tr>\n",
       "    <tr>\n",
       "      <th>4</th>\n",
       "      <td>1</td>\n",
       "      <td>1</td>\n",
       "      <td>0</td>\n",
       "      <td>0.00</td>\n",
       "      <td>132.73</td>\n",
       "      <td>5.412885</td>\n",
       "      <td>0.342945</td>\n",
       "      <td>5.563677</td>\n",
       "      <td>4.086965</td>\n",
       "      <td>0.001389</td>\n",
       "      <td>3.529398</td>\n",
       "      <td>543.66</td>\n",
       "      <td>543.660000</td>\n",
       "      <td>2.693451</td>\n",
       "      <td>4.876771</td>\n",
       "      <td>0</td>\n",
       "    </tr>\n",
       "  </tbody>\n",
       "</table>\n",
       "</div>"
      ],
      "text/plain": [
       "   accountAge  digitalItemCount  sumPurchaseCount1Day  sumPurchaseAmount1Day  \\\n",
       "0        2000                 0                     0                   0.00   \n",
       "1          62                 1                     1                1185.44   \n",
       "2        2000                 0                     0                   0.00   \n",
       "3           1                 1                     0                   0.00   \n",
       "4           1                 1                     0                   0.00   \n",
       "\n",
       "   sumPurchaseAmount30Day  paymentBillingPostalCode - LogOddsForClass_0  \\\n",
       "0                  720.25                                      5.064533   \n",
       "1                 2530.37                                      0.538996   \n",
       "2                    0.00                                      5.064533   \n",
       "3                    0.00                                      5.064533   \n",
       "4                  132.73                                      5.412885   \n",
       "\n",
       "   accountPostalCode - LogOddsForClass_0  \\\n",
       "0                               0.421214   \n",
       "1                               0.481838   \n",
       "2                               5.096396   \n",
       "3                               5.096396   \n",
       "4                               0.342945   \n",
       "\n",
       "   paymentBillingState - LogOddsForClass_0  accountState - LogOddsForClass_0  \\\n",
       "0                                 1.312186                          0.566395   \n",
       "1                                 4.401370                          4.500157   \n",
       "2                                 3.056357                          3.155226   \n",
       "3                                 3.331154                          3.331239   \n",
       "4                                 5.563677                          4.086965   \n",
       "\n",
       "   paymentInstrumentAgeInAccount  ipState - LogOddsForClass_0  \\\n",
       "0                    3279.574306                     1.218157   \n",
       "1                      61.970139                     4.035601   \n",
       "2                       0.000000                     3.314186   \n",
       "3                       0.000000                     3.529398   \n",
       "4                       0.001389                     3.529398   \n",
       "\n",
       "   transactionAmount  transactionAmountUSD  ipPostalCode - LogOddsForClass_0  \\\n",
       "0             599.00            626.164650                          1.259543   \n",
       "1            1185.44           1185.440000                          3.981118   \n",
       "2              32.09             32.090000                          5.008490   \n",
       "3             133.28            132.729554                          1.324925   \n",
       "4             543.66            543.660000                          2.693451   \n",
       "\n",
       "   localHour - LogOddsForClass_0  Label  \n",
       "0                       4.745402      0  \n",
       "1                       4.921349      0  \n",
       "2                       4.742303      0  \n",
       "3                       4.745402      0  \n",
       "4                       4.876771      0  "
      ]
     },
     "execution_count": 184,
     "metadata": {},
     "output_type": "execute_result"
    }
   ],
   "source": [
    "url = 'https://raw.githubusercontent.com/albahnsen/PracticalMachineLearningClass/master/datasets/15_fraud_detection.csv.zip'\n",
    "df = pd.read_csv(url, index_col=0)\n",
    "df.head()"
   ]
  },
  {
   "cell_type": "code",
   "execution_count": 185,
   "metadata": {},
   "outputs": [
    {
     "data": {
      "text/html": [
       "<div>\n",
       "<style scoped>\n",
       "    .dataframe tbody tr th:only-of-type {\n",
       "        vertical-align: middle;\n",
       "    }\n",
       "\n",
       "    .dataframe tbody tr th {\n",
       "        vertical-align: top;\n",
       "    }\n",
       "\n",
       "    .dataframe thead th {\n",
       "        text-align: right;\n",
       "    }\n",
       "</style>\n",
       "<table border=\"1\" class=\"dataframe\">\n",
       "  <thead>\n",
       "    <tr style=\"text-align: right;\">\n",
       "      <th></th>\n",
       "      <th>accountAge</th>\n",
       "      <th>digitalItemCount</th>\n",
       "      <th>sumPurchaseCount1Day</th>\n",
       "      <th>sumPurchaseAmount1Day</th>\n",
       "      <th>sumPurchaseAmount30Day</th>\n",
       "      <th>paymentBillingPostalCode - LogOddsForClass_0</th>\n",
       "      <th>accountPostalCode - LogOddsForClass_0</th>\n",
       "      <th>paymentBillingState - LogOddsForClass_0</th>\n",
       "      <th>accountState - LogOddsForClass_0</th>\n",
       "      <th>paymentInstrumentAgeInAccount</th>\n",
       "      <th>ipState - LogOddsForClass_0</th>\n",
       "      <th>transactionAmount</th>\n",
       "      <th>transactionAmountUSD</th>\n",
       "      <th>ipPostalCode - LogOddsForClass_0</th>\n",
       "      <th>localHour - LogOddsForClass_0</th>\n",
       "      <th>Label</th>\n",
       "    </tr>\n",
       "  </thead>\n",
       "  <tbody>\n",
       "    <tr>\n",
       "      <th>0</th>\n",
       "      <td>2000</td>\n",
       "      <td>0</td>\n",
       "      <td>0</td>\n",
       "      <td>0.00</td>\n",
       "      <td>720.25</td>\n",
       "      <td>5.064533</td>\n",
       "      <td>0.421214</td>\n",
       "      <td>1.312186</td>\n",
       "      <td>0.566395</td>\n",
       "      <td>3279.574306</td>\n",
       "      <td>1.218157</td>\n",
       "      <td>599.00</td>\n",
       "      <td>626.164650</td>\n",
       "      <td>1.259543</td>\n",
       "      <td>4.745402</td>\n",
       "      <td>0</td>\n",
       "    </tr>\n",
       "    <tr>\n",
       "      <th>1</th>\n",
       "      <td>62</td>\n",
       "      <td>1</td>\n",
       "      <td>1</td>\n",
       "      <td>1185.44</td>\n",
       "      <td>2530.37</td>\n",
       "      <td>0.538996</td>\n",
       "      <td>0.481838</td>\n",
       "      <td>4.401370</td>\n",
       "      <td>4.500157</td>\n",
       "      <td>61.970139</td>\n",
       "      <td>4.035601</td>\n",
       "      <td>1185.44</td>\n",
       "      <td>1185.440000</td>\n",
       "      <td>3.981118</td>\n",
       "      <td>4.921349</td>\n",
       "      <td>0</td>\n",
       "    </tr>\n",
       "    <tr>\n",
       "      <th>2</th>\n",
       "      <td>2000</td>\n",
       "      <td>0</td>\n",
       "      <td>0</td>\n",
       "      <td>0.00</td>\n",
       "      <td>0.00</td>\n",
       "      <td>5.064533</td>\n",
       "      <td>5.096396</td>\n",
       "      <td>3.056357</td>\n",
       "      <td>3.155226</td>\n",
       "      <td>0.000000</td>\n",
       "      <td>3.314186</td>\n",
       "      <td>32.09</td>\n",
       "      <td>32.090000</td>\n",
       "      <td>5.008490</td>\n",
       "      <td>4.742303</td>\n",
       "      <td>0</td>\n",
       "    </tr>\n",
       "    <tr>\n",
       "      <th>3</th>\n",
       "      <td>1</td>\n",
       "      <td>1</td>\n",
       "      <td>0</td>\n",
       "      <td>0.00</td>\n",
       "      <td>0.00</td>\n",
       "      <td>5.064533</td>\n",
       "      <td>5.096396</td>\n",
       "      <td>3.331154</td>\n",
       "      <td>3.331239</td>\n",
       "      <td>0.000000</td>\n",
       "      <td>3.529398</td>\n",
       "      <td>133.28</td>\n",
       "      <td>132.729554</td>\n",
       "      <td>1.324925</td>\n",
       "      <td>4.745402</td>\n",
       "      <td>0</td>\n",
       "    </tr>\n",
       "    <tr>\n",
       "      <th>4</th>\n",
       "      <td>1</td>\n",
       "      <td>1</td>\n",
       "      <td>0</td>\n",
       "      <td>0.00</td>\n",
       "      <td>132.73</td>\n",
       "      <td>5.412885</td>\n",
       "      <td>0.342945</td>\n",
       "      <td>5.563677</td>\n",
       "      <td>4.086965</td>\n",
       "      <td>0.001389</td>\n",
       "      <td>3.529398</td>\n",
       "      <td>543.66</td>\n",
       "      <td>543.660000</td>\n",
       "      <td>2.693451</td>\n",
       "      <td>4.876771</td>\n",
       "      <td>0</td>\n",
       "    </tr>\n",
       "  </tbody>\n",
       "</table>\n",
       "</div>"
      ],
      "text/plain": [
       "   accountAge  digitalItemCount  sumPurchaseCount1Day  sumPurchaseAmount1Day  \\\n",
       "0        2000                 0                     0                   0.00   \n",
       "1          62                 1                     1                1185.44   \n",
       "2        2000                 0                     0                   0.00   \n",
       "3           1                 1                     0                   0.00   \n",
       "4           1                 1                     0                   0.00   \n",
       "\n",
       "   sumPurchaseAmount30Day  paymentBillingPostalCode - LogOddsForClass_0  \\\n",
       "0                  720.25                                      5.064533   \n",
       "1                 2530.37                                      0.538996   \n",
       "2                    0.00                                      5.064533   \n",
       "3                    0.00                                      5.064533   \n",
       "4                  132.73                                      5.412885   \n",
       "\n",
       "   accountPostalCode - LogOddsForClass_0  \\\n",
       "0                               0.421214   \n",
       "1                               0.481838   \n",
       "2                               5.096396   \n",
       "3                               5.096396   \n",
       "4                               0.342945   \n",
       "\n",
       "   paymentBillingState - LogOddsForClass_0  accountState - LogOddsForClass_0  \\\n",
       "0                                 1.312186                          0.566395   \n",
       "1                                 4.401370                          4.500157   \n",
       "2                                 3.056357                          3.155226   \n",
       "3                                 3.331154                          3.331239   \n",
       "4                                 5.563677                          4.086965   \n",
       "\n",
       "   paymentInstrumentAgeInAccount  ipState - LogOddsForClass_0  \\\n",
       "0                    3279.574306                     1.218157   \n",
       "1                      61.970139                     4.035601   \n",
       "2                       0.000000                     3.314186   \n",
       "3                       0.000000                     3.529398   \n",
       "4                       0.001389                     3.529398   \n",
       "\n",
       "   transactionAmount  transactionAmountUSD  ipPostalCode - LogOddsForClass_0  \\\n",
       "0             599.00            626.164650                          1.259543   \n",
       "1            1185.44           1185.440000                          3.981118   \n",
       "2              32.09             32.090000                          5.008490   \n",
       "3             133.28            132.729554                          1.324925   \n",
       "4             543.66            543.660000                          2.693451   \n",
       "\n",
       "   localHour - LogOddsForClass_0  Label  \n",
       "0                       4.745402      0  \n",
       "1                       4.921349      0  \n",
       "2                       4.742303      0  \n",
       "3                       4.745402      0  \n",
       "4                       4.876771      0  "
      ]
     },
     "execution_count": 185,
     "metadata": {},
     "output_type": "execute_result"
    }
   ],
   "source": [
    "df.head()"
   ]
  },
  {
   "cell_type": "code",
   "execution_count": 186,
   "metadata": {},
   "outputs": [
    {
     "data": {
      "text/plain": [
       "((138721, 16), 797, 0.0057453449730033666)"
      ]
     },
     "execution_count": 186,
     "metadata": {},
     "output_type": "execute_result"
    }
   ],
   "source": [
    "df.shape, df.Label.sum(), df.Label.mean()"
   ]
  },
  {
   "cell_type": "markdown",
   "metadata": {},
   "source": [
    "# Exercise 15.1\n",
    "\n",
    "Estimate a Logistic Regression and a Decision Tree\n",
    "\n",
    "Evaluate using the following metrics:\n",
    "* Accuracy\n",
    "* F1-Score\n",
    "* F_Beta-Score (Beta=10). Un falso negativo me cuesta 10 veces mas que 1 falso positivo. En fraude es mas valioso.\n",
    "\n",
    "F1 debe dar cerquita a 0\n",
    "\n",
    "Comment about the results"
   ]
  },
  {
   "cell_type": "code",
   "execution_count": 187,
   "metadata": {},
   "outputs": [
    {
     "name": "stdout",
     "output_type": "stream",
     "text": [
      "accountAge                                        int64\n",
      "digitalItemCount                                  int64\n",
      "sumPurchaseCount1Day                              int64\n",
      "sumPurchaseAmount1Day                           float64\n",
      "sumPurchaseAmount30Day                          float64\n",
      "paymentBillingPostalCode - LogOddsForClass_0    float64\n",
      "accountPostalCode - LogOddsForClass_0           float64\n",
      "paymentBillingState - LogOddsForClass_0         float64\n",
      "accountState - LogOddsForClass_0                float64\n",
      "paymentInstrumentAgeInAccount                   float64\n",
      "ipState - LogOddsForClass_0                     float64\n",
      "transactionAmount                               float64\n",
      "transactionAmountUSD                            float64\n",
      "ipPostalCode - LogOddsForClass_0                float64\n",
      "localHour - LogOddsForClass_0                   float64\n",
      "Label                                             int64\n",
      "dtype: object\n"
     ]
    },
    {
     "data": {
      "text/plain": [
       "(138721, 16)"
      ]
     },
     "execution_count": 187,
     "metadata": {},
     "output_type": "execute_result"
    }
   ],
   "source": [
    "# accuracy mas o menos 99.935%\n",
    "print(df.dtypes)\n",
    "df.shape"
   ]
  },
  {
   "cell_type": "code",
   "execution_count": 188,
   "metadata": {},
   "outputs": [],
   "source": [
    "y=df.Label\n",
    "x=df.iloc[:,0:(df.shape[1]-1)]"
   ]
  },
  {
   "cell_type": "code",
   "execution_count": 189,
   "metadata": {},
   "outputs": [
    {
     "name": "stdout",
     "output_type": "stream",
     "text": [
      "ACCURACY:  0.994\n",
      "F1_SCORE:  0.0\n",
      "F_BETA_SCORE:  0.0\n"
     ]
    }
   ],
   "source": [
    "X_train, X_test, Y_train, Y_test = train_test_split(x, y,test_size=0.3, random_state=42)\n",
    "logreg = LogisticRegression(solver='sag',max_iter =150) #cambio en parametros para lograr convergencia.\n",
    "logreg.fit(X_train, Y_train)\n",
    "y_pred = logreg.predict(X_test)\n",
    "print('ACCURACY: ',round(metrics.accuracy_score(Y_test, y_pred),3)) #ACCURACY\n",
    "print('F1_SCORE: ',round(metrics.f1_score(Y_test, y_pred),3)) #F1-SCORE\n",
    "print('F_BETA_SCORE: ',round(metrics.fbeta_score(Y_test, y_pred, beta=10),3)) #F_BETA-SCORE"
   ]
  },
  {
   "cell_type": "code",
   "execution_count": 190,
   "metadata": {},
   "outputs": [
    {
     "name": "stdout",
     "output_type": "stream",
     "text": [
      "ACCURACY:  0.991\n",
      "F1_SCORE:  0.166\n",
      "F_BETA_SCORE:  0.147\n"
     ]
    }
   ],
   "source": [
    "treereg = DecisionTreeClassifier(max_depth=19, random_state=1)\n",
    "treereg.fit(X_train, Y_train)\n",
    "y_pred=treereg.predict(X_test)\n",
    "print('ACCURACY: ',round(metrics.accuracy_score(Y_test, y_pred),3)) #ACCURACY\n",
    "print('F1_SCORE: ',round(metrics.f1_score(Y_test, y_pred),3)) #F1-SCORE\n",
    "print('F_BETA_SCORE: ',round(metrics.fbeta_score(Y_test, y_pred, beta=10),3)) #F_BETA-SCORE"
   ]
  },
  {
   "cell_type": "code",
   "execution_count": 191,
   "metadata": {},
   "outputs": [
    {
     "name": "stdout",
     "output_type": "stream",
     "text": [
      "ACCURACY:  0.994\n",
      "F1_SCORE:  0.139\n",
      "F_BETA_SCORE:  0.082\n"
     ]
    }
   ],
   "source": [
    "clf = RandomForestClassifier(n_estimators=300, random_state=1, n_jobs=-1,max_features=15)\n",
    "clf.fit(X_train, Y_train)\n",
    "y_pred=clf.predict(X_test)\n",
    "print('ACCURACY: ',round(metrics.accuracy_score(Y_test, y_pred),3)) #ACCURACY\n",
    "print('F1_SCORE: ',round(metrics.f1_score(Y_test, y_pred),3)) #F1-SCORE\n",
    "print('F_BETA_SCORE: ',round(metrics.fbeta_score(Y_test, y_pred, beta=10),3)) #F_BETA-SCORE"
   ]
  },
  {
   "cell_type": "markdown",
   "metadata": {},
   "source": [
    "# Exercise 15.2\n",
    "\n",
    "Under-sample the negative class using random-under-sampling\n",
    "\n",
    "Which is parameter for target_percentage did you choose?\n",
    "How the results change?\n",
    "\n",
    "**Only apply under-sampling to the training set, evaluate using the whole test set**"
   ]
  },
  {
   "cell_type": "code",
   "execution_count": 192,
   "metadata": {},
   "outputs": [],
   "source": [
    "salid=[]"
   ]
  },
  {
   "cell_type": "code",
   "execution_count": 193,
   "metadata": {},
   "outputs": [],
   "source": [
    "def plot_two_classes(X, y, subplot=False, size=(10, 10)):\n",
    "    # Plot the two classes\n",
    "    if subplot == False:\n",
    "        fig, subplot = plt.subplots(nrows=1, ncols=1, figsize=size)\n",
    "        \n",
    "    subplot.scatter(X[y==0, 0], X[y==0, 1], label=\"Class #0\", \n",
    "                    alpha=0.5, s=70)\n",
    "    subplot.scatter(X[y==1, 0], X[y==1, 1], label=\"Class #1\", \n",
    "                    alpha=0.5, s=70)\n",
    "    subplot.legend()\n",
    "    return subplot"
   ]
  },
  {
   "cell_type": "code",
   "execution_count": 194,
   "metadata": {},
   "outputs": [],
   "source": [
    "def UnderSampling(X, y, target_percentage=0.5, seed=None):\n",
    "    # Assuming minority class is the positive\n",
    "    n_samples = y.shape[0]\n",
    "    n_samples_0 = (y == 0).sum()\n",
    "    n_samples_1 = (y == 1).sum()\n",
    "\n",
    "    n_samples_0_new =  n_samples_1 / target_percentage - n_samples_1\n",
    "    n_samples_0_new_per = n_samples_0_new / n_samples_0\n",
    "\n",
    "    filter_ = y == 0\n",
    "\n",
    "    np.random.seed(seed)\n",
    "    rand_1 = np.random.binomial(n=1, p=n_samples_0_new_per, size=n_samples)\n",
    "    \n",
    "    filter_ = filter_ & rand_1\n",
    "    filter_ = filter_ | (y == 1)\n",
    "    filter_ = filter_.astype(bool)\n",
    "    \n",
    "    return X[filter_], y[filter_]"
   ]
  },
  {
   "cell_type": "code",
   "execution_count": 195,
   "metadata": {},
   "outputs": [
    {
     "data": {
      "text/plain": [
       "<matplotlib.axes._subplots.AxesSubplot at 0x7f67163b5080>"
      ]
     },
     "execution_count": 195,
     "metadata": {},
     "output_type": "execute_result"
    },
    {
     "data": {
      "image/png": "[encoded data removed]",
      "text/plain": [
       "<Figure size 720x720 with 1 Axes>"
      ]
     },
     "metadata": {
      "needs_background": "light"
     },
     "output_type": "display_data"
    }
   ],
   "source": [
    "X_train, X_test, y_train, y_test = train_test_split(x, y,test_size=0.3, random_state=42)\n",
    "pca = PCA(n_components = 2)\n",
    "X_train_a = X_train\n",
    "X_train_a = pca.fit_transform(X_train_a)\n",
    "plot_two_classes(X_train_a, y_train)"
   ]
  },
  {
   "cell_type": "code",
   "execution_count": 196,
   "metadata": {},
   "outputs": [
    {
     "data": {
      "image/png": "[encoded data removed]",
      "text/plain": [
       "<Figure size 360x360 with 1 Axes>"
      ]
     },
     "metadata": {
      "needs_background": "light"
     },
     "output_type": "display_data"
    },
    {
     "name": "stdout",
     "output_type": "stream",
     "text": [
      "Random Forest Target percentage:  0.1 Media:  0.1 Tamaño:  5497\n",
      "Accuracy:  0.982\n",
      "F1_Score :  0.18\n",
      "F_BETA-SCORE:  0.333\n",
      "DecisionTree Target percentage:  0.1 Media:  0.1 Tamaño:  5497\n",
      "Accuracy:  0.936\n",
      "F1_Score :  0.061\n",
      "F_BETA-SCORE:  0.324\n",
      "Logistic:  0.1 Media:  0.1 Tamaño:  5497\n",
      "Accuracy:  0.994\n",
      "F1_Score :  0.0\n",
      "F_BETA-SCORE:  0.0\n"
     ]
    },
    {
     "data": {
      "image/png": "[encoded data removed]",
      "text/plain": [
       "<Figure size 360x360 with 1 Axes>"
      ]
     },
     "metadata": {
      "needs_background": "light"
     },
     "output_type": "display_data"
    },
    {
     "name": "stdout",
     "output_type": "stream",
     "text": [
      "Random Forest Target percentage:  0.2 Media:  0.2 Tamaño:  2755\n",
      "Accuracy:  0.95\n",
      "F1_Score :  0.099\n",
      "F_BETA-SCORE:  0.433\n",
      "DecisionTree Target percentage:  0.2 Media:  0.2 Tamaño:  2755\n",
      "Accuracy:  0.875\n",
      "F1_Score :  0.044\n",
      "F_BETA-SCORE:  0.408\n",
      "Logistic:  0.2 Media:  0.2 Tamaño:  2755\n",
      "Accuracy:  0.994\n",
      "F1_Score :  0.0\n",
      "F_BETA-SCORE:  0.0\n"
     ]
    },
    {
     "data": {
      "image/png": "[encoded data removed]",
      "text/plain": [
       "<Figure size 360x360 with 1 Axes>"
      ]
     },
     "metadata": {
      "needs_background": "light"
     },
     "output_type": "display_data"
    },
    {
     "name": "stdout",
     "output_type": "stream",
     "text": [
      "Random Forest Target percentage:  0.3 Media:  0.308 Tamaño:  1790\n",
      "Accuracy:  0.89\n",
      "F1_Score :  0.058\n",
      "F_BETA-SCORE:  0.489\n",
      "DecisionTree Target percentage:  0.3 Media:  0.308 Tamaño:  1790\n",
      "Accuracy:  0.816\n",
      "F1_Score :  0.035\n",
      "F_BETA-SCORE:  0.433\n",
      "Logistic:  0.3 Media:  0.308 Tamaño:  1790\n",
      "Accuracy:  0.964\n",
      "F1_Score :  0.021\n",
      "F_BETA-SCORE:  0.063\n"
     ]
    },
    {
     "data": {
      "image/png": "[encoded data removed]",
      "text/plain": [
       "<Figure size 360x360 with 1 Axes>"
      ]
     },
     "metadata": {
      "needs_background": "light"
     },
     "output_type": "display_data"
    },
    {
     "name": "stdout",
     "output_type": "stream",
     "text": [
      "Random Forest Target percentage:  0.4 Media:  0.414 Tamaño:  1333\n",
      "Accuracy:  0.827\n",
      "F1_Score :  0.042\n",
      "F_BETA-SCORE:  0.503\n",
      "DecisionTree Target percentage:  0.4 Media:  0.414 Tamaño:  1333\n",
      "Accuracy:  0.753\n",
      "F1_Score :  0.027\n",
      "F_BETA-SCORE:  0.415\n",
      "Logistic:  0.4 Media:  0.414 Tamaño:  1333\n",
      "Accuracy:  0.37\n",
      "F1_Score :  0.017\n",
      "F_BETA-SCORE:  0.446\n"
     ]
    },
    {
     "data": {
      "image/png": "[encoded data removed]",
      "text/plain": [
       "<Figure size 360x360 with 1 Axes>"
      ]
     },
     "metadata": {
      "needs_background": "light"
     },
     "output_type": "display_data"
    },
    {
     "name": "stdout",
     "output_type": "stream",
     "text": [
      "Random Forest Target percentage:  0.5 Media:  0.512 Tamaño:  1079\n",
      "Accuracy:  0.756\n",
      "F1_Score :  0.033\n",
      "F_BETA-SCORE:  0.509\n",
      "DecisionTree Target percentage:  0.5 Media:  0.512 Tamaño:  1079\n",
      "Accuracy:  0.671\n",
      "F1_Score :  0.023\n",
      "F_BETA-SCORE:  0.42\n",
      "Logistic:  0.5 Media:  0.512 Tamaño:  1079\n",
      "Accuracy:  0.32\n",
      "F1_Score :  0.016\n",
      "F_BETA-SCORE:  0.432\n"
     ]
    }
   ],
   "source": [
    "for target_percentage in [0.1, 0.2, 0.3, 0.4, 0.5]:\n",
    "    X_u_a, y_u_a = UnderSampling(X_train_a, y_train, target_percentage, 1)\n",
    "    X_u, y_u = UnderSampling(X_train, y_train, target_percentage, 1)\n",
    "    plot_two_classes(X_u_a, y_u_a, size=(5, 5))\n",
    "    plt.show() \n",
    "    rfc = RandomForestClassifier(n_estimators=300,max_features=15 , random_state=1, n_jobs=-1)\n",
    "    treeclf = DecisionTreeClassifier(max_depth=19, random_state=1)\n",
    "    logreg = LogisticRegression(solver='sag',max_iter =150) #cambio en parametros para lograr convergencia.\n",
    "    treeclf.fit(X_u, y_u)\n",
    "    rfc.fit(X_u, y_u)\n",
    "    logreg.fit(X_u, y_u)\n",
    "    y_pred=rfc.predict(X_test)\n",
    "    y_pred_a = treeclf.predict(X_test)\n",
    "    y_pred_b = logreg.predict(X_test)\n",
    "    salid.append(['UnderSampling','Random Forest',target_percentage,'Accuracy',round(metrics.accuracy_score(y_test, y_pred),3)])\n",
    "    salid.append(['UnderSampling','Random Forest',target_percentage,'F1_Score',round(metrics.accuracy_score(y_test, y_pred),3)])\n",
    "    salid.append(['UnderSampling','Random Forest',target_percentage,'F_BETA_SCORE',round(metrics.accuracy_score(y_test, y_pred),3)])\n",
    "    salid.append(['UnderSampling','DecisionTree',target_percentage,'Accuracy',round(metrics.accuracy_score(y_test, y_pred_a),3)])\n",
    "    salid.append(['UnderSampling','DecisionTree',target_percentage,'F1_Score',round(metrics.accuracy_score(y_test, y_pred_a),3)])\n",
    "    salid.append(['UnderSampling','DecisionTree',target_percentage,'F_BETA_SCORE',round(metrics.accuracy_score(y_test, y_pred_a),3)])\n",
    "    salid.append(['UnderSampling','Logistic',target_percentage,'Accuracy',round(metrics.accuracy_score(y_test, y_pred_b),3)])\n",
    "    salid.append(['UnderSampling','Logistic',target_percentage,'F1_Score',round(metrics.accuracy_score(y_test, y_pred_b),3)])\n",
    "    salid.append(['UnderSampling','Logistic',target_percentage,'F_BETA_SCORE',round(metrics.accuracy_score(y_test, y_pred_b),3)])\n",
    "    print('Random Forest Target percentage: ',target_percentage, 'Media: ',round(y_u.mean(),3), 'Tamaño: ',y_u.shape[0])\n",
    "    print('Accuracy: ',round(metrics.accuracy_score(y_test, y_pred),3)) #ACCURACY\n",
    "    print('F1_Score : ',round(metrics.f1_score(y_test, y_pred),3)) #F1-SCORE\n",
    "    print('F_BETA-SCORE: ',round(metrics.fbeta_score(y_test, y_pred, beta=10),3)) #F_BETA-SCORE\n",
    "    print('DecisionTree Target percentage: ',target_percentage, 'Media: ',round(y_u.mean(),3), 'Tamaño: ',y_u.shape[0])\n",
    "    print('Accuracy: ',round(metrics.accuracy_score(y_test, y_pred_a),3)) #ACCURACY\n",
    "    print('F1_Score : ',round(metrics.f1_score(y_test, y_pred_a),3)) #F1-SCORE\n",
    "    print('F_BETA-SCORE: ',round(metrics.fbeta_score(y_test, y_pred_a, beta=10),3)) #F_BETA-SCORE\n",
    "    print('Logistic: ',target_percentage, 'Media: ',round(y_u.mean(),3), 'Tamaño: ',y_u.shape[0])\n",
    "    print('Accuracy: ',round(metrics.accuracy_score(y_test, y_pred_b),3)) #ACCURACY\n",
    "    print('F1_Score : ',round(metrics.f1_score(y_test, y_pred_b),3)) #F1-SCORE\n",
    "    print('F_BETA-SCORE: ',round(metrics.fbeta_score(y_test, y_pred_b, beta=10),3)) #F_BETA-SCORE\n"
   ]
  },
  {
   "cell_type": "markdown",
   "metadata": {},
   "source": [
    "# Exercise 15.3\n",
    "\n",
    "Same analysis using random-over-sampling"
   ]
  },
  {
   "cell_type": "code",
   "execution_count": 197,
   "metadata": {},
   "outputs": [],
   "source": [
    "def OverSampling(X, y, target_percentage=0.5, seed=None):\n",
    "    # Assuming minority class is the positive\n",
    "    n_samples = y.shape[0]\n",
    "    n_samples_0 = (y == 0).sum()\n",
    "    n_samples_1 = (y == 1).sum()\n",
    "\n",
    "    n_samples_1_new =  -target_percentage * n_samples_0 / (target_percentage- 1)\n",
    "\n",
    "    np.random.seed(seed)\n",
    "    filter_ = np.random.choice(X[y == 1].shape[0], int(n_samples_1_new))\n",
    "    # filter_ is within the positives, change to be of all\n",
    "    filter_ = np.nonzero(y == 1)[0][filter_]\n",
    "    \n",
    "    filter_ = np.concatenate((filter_, np.nonzero(y == 0)[0]), axis=0)\n",
    "    \n",
    "    return X.iloc[filter_], y.iloc[filter_]"
   ]
  },
  {
   "cell_type": "code",
   "execution_count": 198,
   "metadata": {},
   "outputs": [
    {
     "data": {
      "image/png": "[encoded data removed]",
      "text/plain": [
       "<Figure size 360x360 with 1 Axes>"
      ]
     },
     "metadata": {
      "needs_background": "light"
     },
     "output_type": "display_data"
    },
    {
     "name": "stdout",
     "output_type": "stream",
     "text": [
      "Random Forest Target percentage:  0.1 Media:  0.1 Tamaño:  107280\n",
      "Accuracy:  0.993\n",
      "F1_Score :  0.189\n",
      "F_BETA-SCORE:  0.14\n",
      "DecisionTree Target percentage:  0.1 Media:  0.1 Tamaño:  107280\n",
      "Accuracy:  0.986\n",
      "F1_Score :  0.135\n",
      "F_BETA-SCORE:  0.186\n",
      "Logistic:  0.1 Media:  0.1 Tamaño:  107280\n",
      "Accuracy:  0.994\n",
      "F1_Score :  0.0\n",
      "F_BETA-SCORE:  0.0\n"
     ]
    },
    {
     "data": {
      "image/png": "[encoded data removed]",
      "text/plain": [
       "<Figure size 360x360 with 1 Axes>"
      ]
     },
     "metadata": {
      "needs_background": "light"
     },
     "output_type": "display_data"
    },
    {
     "name": "stdout",
     "output_type": "stream",
     "text": [
      "Random Forest Target percentage:  0.2 Media:  0.2 Tamaño:  120690\n",
      "Accuracy:  0.993\n",
      "F1_Score :  0.179\n",
      "F_BETA-SCORE:  0.131\n",
      "DecisionTree Target percentage:  0.2 Media:  0.2 Tamaño:  120690\n",
      "Accuracy:  0.982\n",
      "F1_Score :  0.112\n",
      "F_BETA-SCORE:  0.193\n",
      "Logistic:  0.2 Media:  0.2 Tamaño:  120690\n",
      "Accuracy:  0.994\n",
      "F1_Score :  0.0\n",
      "F_BETA-SCORE:  0.0\n"
     ]
    },
    {
     "data": {
      "image/png": "[encoded data removed]",
      "text/plain": [
       "<Figure size 360x360 with 1 Axes>"
      ]
     },
     "metadata": {
      "needs_background": "light"
     },
     "output_type": "display_data"
    },
    {
     "name": "stdout",
     "output_type": "stream",
     "text": [
      "Random Forest Target percentage:  0.3 Media:  0.3 Tamaño:  137931\n",
      "Accuracy:  0.993\n",
      "F1_Score :  0.157\n",
      "F_BETA-SCORE:  0.115\n",
      "DecisionTree Target percentage:  0.3 Media:  0.3 Tamaño:  137931\n",
      "Accuracy:  0.967\n",
      "F1_Score :  0.078\n",
      "F_BETA-SCORE:  0.228\n",
      "Logistic:  0.3 Media:  0.3 Tamaño:  137931\n",
      "Accuracy:  0.98\n",
      "F1_Score :  0.028\n",
      "F_BETA-SCORE:  0.048\n"
     ]
    },
    {
     "data": {
      "image/png": "[encoded data removed]",
      "text/plain": [
       "<Figure size 360x360 with 1 Axes>"
      ]
     },
     "metadata": {
      "needs_background": "light"
     },
     "output_type": "display_data"
    },
    {
     "name": "stdout",
     "output_type": "stream",
     "text": [
      "Random Forest Target percentage:  0.4 Media:  0.4 Tamaño:  160920\n",
      "Accuracy:  0.993\n",
      "F1_Score :  0.162\n",
      "F_BETA-SCORE:  0.123\n",
      "DecisionTree Target percentage:  0.4 Media:  0.4 Tamaño:  160920\n",
      "Accuracy:  0.97\n",
      "F1_Score :  0.084\n",
      "F_BETA-SCORE:  0.229\n",
      "Logistic:  0.4 Media:  0.4 Tamaño:  160920\n",
      "Accuracy:  0.39\n",
      "F1_Score :  0.017\n",
      "F_BETA-SCORE:  0.454\n"
     ]
    },
    {
     "data": {
      "image/png": "[encoded data removed]",
      "text/plain": [
       "<Figure size 360x360 with 1 Axes>"
      ]
     },
     "metadata": {
      "needs_background": "light"
     },
     "output_type": "display_data"
    },
    {
     "name": "stdout",
     "output_type": "stream",
     "text": [
      "Random Forest Target percentage:  0.5 Media:  0.5 Tamaño:  193104\n",
      "Accuracy:  0.992\n",
      "F1_Score :  0.145\n",
      "F_BETA-SCORE:  0.111\n",
      "DecisionTree Target percentage:  0.5 Media:  0.5 Tamaño:  193104\n",
      "Accuracy:  0.947\n",
      "F1_Score :  0.057\n",
      "F_BETA-SCORE:  0.254\n",
      "Logistic:  0.5 Media:  0.5 Tamaño:  193104\n",
      "Accuracy:  0.324\n",
      "F1_Score :  0.016\n",
      "F_BETA-SCORE:  0.434\n"
     ]
    }
   ],
   "source": [
    "for target_percentage in [0.1, 0.2, 0.3, 0.4, 0.5]:\n",
    "    X_u, y_u = OverSampling(X_train, y_train, target_percentage, 1)\n",
    "    X_u_a = pca.fit_transform(X_u)\n",
    "    plot_two_classes(X_u_a, y_u, size=(5, 5))\n",
    "    plt.show() \n",
    "    rfc = RandomForestClassifier(n_estimators=300,max_features=15 , random_state=1, n_jobs=-1)\n",
    "    treeclf = DecisionTreeClassifier(max_depth=19, random_state=1)\n",
    "    logreg = LogisticRegression(solver='sag',max_iter =150) #cambio en parametros para lograr convergencia.\n",
    "    treeclf.fit(X_u, y_u)\n",
    "    rfc.fit(X_u, y_u)\n",
    "    logreg.fit(X_u, y_u)\n",
    "    y_pred=rfc.predict(X_test)\n",
    "    y_pred_a = treeclf.predict(X_test)\n",
    "    y_pred_b = logreg.predict(X_test)\n",
    "    salid.append(['OverSampling','Random Forest',target_percentage,'Accuracy',round(metrics.accuracy_score(y_test, y_pred),3)])\n",
    "    salid.append(['OverSampling','Random Forest',target_percentage,'F1_Score',round(metrics.accuracy_score(y_test, y_pred),3)])\n",
    "    salid.append(['OverSampling','Random Forest',target_percentage,'F_BETA_SCORE',round(metrics.accuracy_score(y_test, y_pred),3)])\n",
    "    salid.append(['OverSampling','DecisionTree',target_percentage,'Accuracy',round(metrics.accuracy_score(y_test, y_pred_a),3)])\n",
    "    salid.append(['OverSampling','DecisionTree',target_percentage,'F1_Score',round(metrics.accuracy_score(y_test, y_pred_a),3)])\n",
    "    salid.append(['OverSampling','DecisionTree',target_percentage,'F_BETA_SCORE',round(metrics.accuracy_score(y_test, y_pred_a),3)])\n",
    "    salid.append(['OverSampling','Logistic',target_percentage,'Accuracy',round(metrics.accuracy_score(y_test, y_pred_b),3)])\n",
    "    salid.append(['OverSampling','Logistic',target_percentage,'F1_Score',round(metrics.accuracy_score(y_test, y_pred_b),3)])\n",
    "    salid.append(['OverSampling','Logistic',target_percentage,'F_BETA_SCORE',round(metrics.accuracy_score(y_test, y_pred_b),3)])\n",
    "    print('Random Forest Target percentage: ',target_percentage, 'Media: ',round(y_u.mean(),3), 'Tamaño: ',y_u.shape[0])\n",
    "    print('Accuracy: ',round(metrics.accuracy_score(y_test, y_pred),3)) #ACCURACY\n",
    "    print('F1_Score : ',round(metrics.f1_score(y_test, y_pred),3)) #F1-SCORE\n",
    "    print('F_BETA-SCORE: ',round(metrics.fbeta_score(y_test, y_pred, beta=10),3)) #F_BETA-SCORE\n",
    "    print('DecisionTree Target percentage: ',target_percentage, 'Media: ',round(y_u.mean(),3), 'Tamaño: ',y_u.shape[0])\n",
    "    print('Accuracy: ',round(metrics.accuracy_score(y_test, y_pred_a),3)) #ACCURACY\n",
    "    print('F1_Score : ',round(metrics.f1_score(y_test, y_pred_a),3)) #F1-SCORE\n",
    "    print('F_BETA-SCORE: ',round(metrics.fbeta_score(y_test, y_pred_a, beta=10),3)) #F_BETA-SCORE\n",
    "    print('Logistic: ',target_percentage, 'Media: ',round(y_u.mean(),3), 'Tamaño: ',y_u.shape[0])\n",
    "    print('Accuracy: ',round(metrics.accuracy_score(y_test, y_pred_b),3)) #ACCURACY\n",
    "    print('F1_Score : ',round(metrics.f1_score(y_test, y_pred_b),3)) #F1-SCORE\n",
    "    print('F_BETA-SCORE: ',round(metrics.fbeta_score(y_test, y_pred_b, beta=10),3)) #F_BETA-SCORE"
   ]
  },
  {
   "cell_type": "markdown",
   "metadata": {},
   "source": [
    "# Exercise 15.4 (3 points)\n",
    "\n",
    "\n",
    "Evaluate the results using SMOTE\n",
    "\n",
    "Which parameters did you choose?"
   ]
  },
  {
   "cell_type": "code",
   "execution_count": 199,
   "metadata": {},
   "outputs": [],
   "source": [
    "def SMOTE(X, y, target_percentage=0.5, k=5, seed=None):\n",
    "    \n",
    "    n_samples_0 = (y == 0).sum()\n",
    "    n_samples_1 = (y == 1).sum()\n",
    "    \n",
    "    # New samples\n",
    "    n_samples_1_new =  int(-target_percentage * n_samples_0 / (target_percentage- 1) - n_samples_1)\n",
    "    \n",
    "    # A matrix to store the synthetic samples\n",
    "    new = np.zeros((n_samples_1_new, X_train.shape[1]))\n",
    "    \n",
    "    # Create seeds\n",
    "    np.random.seed(seed)\n",
    "    seeds = np.random.randint(1, 1000000, 3)\n",
    "    \n",
    "    # Select examples to use as base\n",
    "    np.random.seed(seeds[0])\n",
    "    sel_ = np.random.choice(y[y==1].shape[0], n_samples_1_new)\n",
    "    \n",
    "    # Define random seeds (2 per example)\n",
    "    np.random.seed(seeds[1])\n",
    "    nn__ = np.random.choice(k, n_samples_1_new)\n",
    "    np.random.seed(seeds[2])\n",
    "    steps = np.random.uniform(size=n_samples_1_new)  \n",
    "\n",
    "    # For each selected examples create one synthetic case\n",
    "    for i, sel in enumerate(sel_):\n",
    "        # Select neighbor\n",
    "        nn_ = nn__[i]\n",
    "        step = steps[i]\n",
    "        # Create new sample\n",
    "        new[i, :] = X[y==1].iloc[sel] - step * (X[y==1].iloc[sel] - X[y==1].iloc[nn_])\n",
    "    \n",
    "    X = np.vstack((X, new))\n",
    "    y = np.append(y, np.ones(n_samples_1_new))\n",
    "    \n",
    "    return X, y"
   ]
  },
  {
   "cell_type": "code",
   "execution_count": 200,
   "metadata": {},
   "outputs": [],
   "source": [
    "def SMOTE_(X, y, target_percentage=0.5, k=5, seed=None):\n",
    "    \n",
    "    n_samples_0 = (y == 0).sum()\n",
    "    n_samples_1 = (y == 1).sum()\n",
    " \n",
    "    # New samples\n",
    "    n_samples_1_new =  int(-target_percentage * n_samples_0 / (target_percentage- 1) - n_samples_1)\n",
    "    \n",
    "    # A matrix to store the synthetic samples\n",
    "    new = np.zeros((n_samples_1_new, X_train_a.shape[1]))\n",
    "    \n",
    "    # Create seeds\n",
    "    np.random.seed(seed)\n",
    "    seeds = np.random.randint(1, 1000000, 3)\n",
    "    \n",
    "    # Select examples to use as base\n",
    "    np.random.seed(seeds[0])\n",
    "    sel_ = np.random.choice(y[y==1].shape[0], n_samples_1_new)\n",
    "    \n",
    "    # Define random seeds (2 per example)\n",
    "    np.random.seed(seeds[1])\n",
    "    nn__ = np.random.choice(k, n_samples_1_new)\n",
    "    np.random.seed(seeds[2])\n",
    "    steps = np.random.uniform(size=n_samples_1_new)  \n",
    "\n",
    "    # For each selected examples create one synthetic case\n",
    "    for i, sel in enumerate(sel_):\n",
    "        # Select neighbor\n",
    "        nn_ = nn__[i]\n",
    "        step = steps[i]\n",
    "        # Create new sample\n",
    "        new[i, :] = X[y==1][sel] - step * (X[y==1][sel] - X[y==1][nn_])\n",
    "    \n",
    "    X = np.vstack((X, new))\n",
    "    y = np.append(y, np.ones(n_samples_1_new))\n",
    "    \n",
    "    return X, y"
   ]
  },
  {
   "cell_type": "code",
   "execution_count": 201,
   "metadata": {},
   "outputs": [
    {
     "data": {
      "image/png": "[encoded data removed]",
      "text/plain": [
       "<Figure size 360x360 with 1 Axes>"
      ]
     },
     "metadata": {
      "needs_background": "light"
     },
     "output_type": "display_data"
    },
    {
     "name": "stdout",
     "output_type": "stream",
     "text": [
      "Random Forest  0.1 Media:  0.1 Tamaño:  107280 k:  5\n",
      "Accuracy:  0.993\n",
      "F1_Score :  0.141\n",
      "F_BETA-SCORE:  0.095\n",
      "Decision Tree  0.1 Media:  0.1 Tamaño:  107280 k:  5\n",
      "Accuracy:  0.988\n",
      "F1_Score :  0.09\n",
      "F_BETA-SCORE:  0.11\n",
      "Logistic  0.1 Media:  0.1 Tamaño:  107280 k:  5\n",
      "Accuracy:  0.994\n",
      "F1_Score :  0.0\n",
      "F_BETA-SCORE:  0.0\n"
     ]
    },
    {
     "data": {
      "image/png": "[encoded data removed]",
      "text/plain": [
       "<Figure size 360x360 with 1 Axes>"
      ]
     },
     "metadata": {
      "needs_background": "light"
     },
     "output_type": "display_data"
    },
    {
     "name": "stdout",
     "output_type": "stream",
     "text": [
      "Random Forest  0.1 Media:  0.1 Tamaño:  107280 k:  15\n",
      "Accuracy:  0.993\n",
      "F1_Score :  0.169\n",
      "F_BETA-SCORE:  0.115\n",
      "Decision Tree  0.1 Media:  0.1 Tamaño:  107280 k:  15\n",
      "Accuracy:  0.988\n",
      "F1_Score :  0.13\n",
      "F_BETA-SCORE:  0.155\n",
      "Logistic  0.1 Media:  0.1 Tamaño:  107280 k:  15\n",
      "Accuracy:  0.994\n",
      "F1_Score :  0.0\n",
      "F_BETA-SCORE:  0.0\n"
     ]
    },
    {
     "data": {
      "image/png": "[encoded data removed]",
      "text/plain": [
       "<Figure size 360x360 with 1 Axes>"
      ]
     },
     "metadata": {
      "needs_background": "light"
     },
     "output_type": "display_data"
    },
    {
     "name": "stdout",
     "output_type": "stream",
     "text": [
      "Random Forest  0.2 Media:  0.2 Tamaño:  120690 k:  5\n",
      "Accuracy:  0.993\n",
      "F1_Score :  0.152\n",
      "F_BETA-SCORE:  0.115\n",
      "Decision Tree  0.2 Media:  0.2 Tamaño:  120690 k:  5\n",
      "Accuracy:  0.987\n",
      "F1_Score :  0.1\n",
      "F_BETA-SCORE:  0.126\n",
      "Logistic  0.2 Media:  0.2 Tamaño:  120690 k:  5\n",
      "Accuracy:  0.994\n",
      "F1_Score :  0.0\n",
      "F_BETA-SCORE:  0.0\n"
     ]
    },
    {
     "data": {
      "image/png": "[encoded data removed]",
      "text/plain": [
       "<Figure size 360x360 with 1 Axes>"
      ]
     },
     "metadata": {
      "needs_background": "light"
     },
     "output_type": "display_data"
    },
    {
     "name": "stdout",
     "output_type": "stream",
     "text": [
      "Random Forest  0.2 Media:  0.2 Tamaño:  120690 k:  15\n",
      "Accuracy:  0.993\n",
      "F1_Score :  0.172\n",
      "F_BETA-SCORE:  0.123\n",
      "Decision Tree  0.2 Media:  0.2 Tamaño:  120690 k:  15\n",
      "Accuracy:  0.985\n",
      "F1_Score :  0.1\n",
      "F_BETA-SCORE:  0.142\n",
      "Logistic  0.2 Media:  0.2 Tamaño:  120690 k:  15\n",
      "Accuracy:  0.994\n",
      "F1_Score :  0.0\n",
      "F_BETA-SCORE:  0.0\n"
     ]
    },
    {
     "data": {
      "image/png": "[encoded data removed]",
      "text/plain": [
       "<Figure size 360x360 with 1 Axes>"
      ]
     },
     "metadata": {
      "needs_background": "light"
     },
     "output_type": "display_data"
    },
    {
     "name": "stdout",
     "output_type": "stream",
     "text": [
      "Random Forest  0.3 Media:  0.3 Tamaño:  137931 k:  5\n",
      "Accuracy:  0.992\n",
      "F1_Score :  0.147\n",
      "F_BETA-SCORE:  0.115\n",
      "Decision Tree  0.3 Media:  0.3 Tamaño:  137931 k:  5\n",
      "Accuracy:  0.987\n",
      "F1_Score :  0.12\n",
      "F_BETA-SCORE:  0.15\n",
      "Logistic  0.3 Media:  0.3 Tamaño:  137931 k:  5\n",
      "Accuracy:  0.994\n",
      "F1_Score :  0.0\n",
      "F_BETA-SCORE:  0.0\n"
     ]
    },
    {
     "data": {
      "image/png": "[encoded data removed]",
      "text/plain": [
       "<Figure size 360x360 with 1 Axes>"
      ]
     },
     "metadata": {
      "needs_background": "light"
     },
     "output_type": "display_data"
    },
    {
     "name": "stdout",
     "output_type": "stream",
     "text": [
      "Random Forest  0.3 Media:  0.3 Tamaño:  137931 k:  15\n",
      "Accuracy:  0.993\n",
      "F1_Score :  0.161\n",
      "F_BETA-SCORE:  0.119\n",
      "Decision Tree  0.3 Media:  0.3 Tamaño:  137931 k:  15\n",
      "Accuracy:  0.984\n",
      "F1_Score :  0.1\n",
      "F_BETA-SCORE:  0.153\n",
      "Logistic  0.3 Media:  0.3 Tamaño:  137931 k:  15\n",
      "Accuracy:  0.981\n",
      "F1_Score :  0.015\n",
      "F_BETA-SCORE:  0.024\n"
     ]
    },
    {
     "data": {
      "image/png": "[encoded data removed]",
      "text/plain": [
       "<Figure size 360x360 with 1 Axes>"
      ]
     },
     "metadata": {
      "needs_background": "light"
     },
     "output_type": "display_data"
    },
    {
     "name": "stdout",
     "output_type": "stream",
     "text": [
      "Random Forest  0.4 Media:  0.4 Tamaño:  160920 k:  5\n",
      "Accuracy:  0.991\n",
      "F1_Score :  0.13\n",
      "F_BETA-SCORE:  0.111\n",
      "Decision Tree  0.4 Media:  0.4 Tamaño:  160920 k:  5\n",
      "Accuracy:  0.984\n",
      "F1_Score :  0.09\n",
      "F_BETA-SCORE:  0.141\n",
      "Logistic  0.4 Media:  0.4 Tamaño:  160920 k:  5\n",
      "Accuracy:  0.496\n",
      "F1_Score :  0.013\n",
      "F_BETA-SCORE:  0.315\n"
     ]
    },
    {
     "data": {
      "image/png": "[encoded data removed]",
      "text/plain": [
       "<Figure size 360x360 with 1 Axes>"
      ]
     },
     "metadata": {
      "needs_background": "light"
     },
     "output_type": "display_data"
    },
    {
     "name": "stdout",
     "output_type": "stream",
     "text": [
      "Random Forest  0.4 Media:  0.4 Tamaño:  160920 k:  15\n",
      "Accuracy:  0.992\n",
      "F1_Score :  0.182\n",
      "F_BETA-SCORE:  0.143\n",
      "Decision Tree  0.4 Media:  0.4 Tamaño:  160920 k:  15\n",
      "Accuracy:  0.982\n",
      "F1_Score :  0.09\n",
      "F_BETA-SCORE:  0.157\n",
      "Logistic  0.4 Media:  0.4 Tamaño:  160920 k:  15\n",
      "Accuracy:  0.366\n",
      "F1_Score :  0.017\n",
      "F_BETA-SCORE:  0.439\n"
     ]
    },
    {
     "data": {
      "image/png": "[encoded data removed]",
      "text/plain": [
       "<Figure size 360x360 with 1 Axes>"
      ]
     },
     "metadata": {
      "needs_background": "light"
     },
     "output_type": "display_data"
    },
    {
     "name": "stdout",
     "output_type": "stream",
     "text": [
      "Random Forest  0.5 Media:  0.5 Tamaño:  193104 k:  5\n",
      "Accuracy:  0.991\n",
      "F1_Score :  0.118\n",
      "F_BETA-SCORE:  0.102\n",
      "Decision Tree  0.5 Media:  0.5 Tamaño:  193104 k:  5\n",
      "Accuracy:  0.98\n",
      "F1_Score :  0.08\n",
      "F_BETA-SCORE:  0.133\n",
      "Logistic  0.5 Media:  0.5 Tamaño:  193104 k:  5\n",
      "Accuracy:  0.329\n",
      "F1_Score :  0.016\n",
      "F_BETA-SCORE:  0.438\n"
     ]
    },
    {
     "data": {
      "image/png": "[encoded data removed]",
      "text/plain": [
       "<Figure size 360x360 with 1 Axes>"
      ]
     },
     "metadata": {
      "needs_background": "light"
     },
     "output_type": "display_data"
    },
    {
     "name": "stdout",
     "output_type": "stream",
     "text": [
      "Random Forest  0.5 Media:  0.5 Tamaño:  193104 k:  15\n",
      "Accuracy:  0.991\n",
      "F1_Score :  0.158\n",
      "F_BETA-SCORE:  0.151\n",
      "Decision Tree  0.5 Media:  0.5 Tamaño:  193104 k:  15\n",
      "Accuracy:  0.978\n",
      "F1_Score :  0.09\n",
      "F_BETA-SCORE:  0.18\n",
      "Logistic  0.5 Media:  0.5 Tamaño:  193104 k:  15\n",
      "Accuracy:  0.306\n",
      "F1_Score :  0.016\n",
      "F_BETA-SCORE:  0.435\n"
     ]
    }
   ],
   "source": [
    "for target_percentage in [0.1, 0.2, 0.3, 0.4, 0.5]:\n",
    "    for k in [5, 15]:\n",
    "        X_u, y_u = SMOTE(X_train, y_train, target_percentage, k, seed=3)\n",
    "        X_u_a, y_u_a = SMOTE_(X_train_a, y_train, target_percentage, k, seed=3)\n",
    "        plot_two_classes(X_u_a, y_u_a, size=(5, 5))\n",
    "        plt.show()    \n",
    "        rfc = RandomForestClassifier(n_estimators=300,max_features=15 , random_state=1, n_jobs=-1)\n",
    "        treeclf = DecisionTreeClassifier(max_depth=19, random_state=1)\n",
    "        logreg = LogisticRegression(solver='sag',max_iter =150) #cambio en parametros para lograr convergencia.\n",
    "        treeclf.fit(X_u, y_u)\n",
    "        rfc.fit(X_u, y_u)\n",
    "        logreg.fit(X_u, y_u)\n",
    "        y_pred=rfc.predict(X_test)\n",
    "        y_pred_a = treeclf.predict(X_test)\n",
    "        y_pred_b = logreg.predict(X_test)\n",
    "        salid.append(['SMOTE','Random Forest',target_percentage,'Accuracy',round(metrics.accuracy_score(y_test, y_pred),3)])\n",
    "        salid.append(['SMOTE','Random Forest',target_percentage,'F1_Score',round(metrics.accuracy_score(y_test, y_pred),3)])\n",
    "        salid.append(['SMOTE','Random Forest',target_percentage,'F_BETA_SCORE',round(metrics.accuracy_score(y_test, y_pred),3)])\n",
    "        salid.append(['SMOTE','DecisionTree',target_percentage,'Accuracy',round(metrics.accuracy_score(y_test, y_pred_a),3)])\n",
    "        salid.append(['SMOTE','DecisionTree',target_percentage,'F1_Score',round(metrics.accuracy_score(y_test, y_pred_a),3)])\n",
    "        salid.append(['SMOTE','DecisionTree',target_percentage,'F_BETA_SCORE',round(metrics.accuracy_score(y_test, y_pred_a),3)])\n",
    "        salid.append(['SMOTE','Logistic',target_percentage,'Accuracy',round(metrics.accuracy_score(y_test, y_pred_b),3)])\n",
    "        salid.append(['SMOTE','Logistic',target_percentage,'F1_Score',round(metrics.accuracy_score(y_test, y_pred_b),3)])\n",
    "        salid.append(['SMOTE','Logistic',target_percentage,'F_BETA_SCORE',round(metrics.accuracy_score(y_test, y_pred_b),3)])\n",
    "        print('Random Forest ',target_percentage, 'Media: ',round(y_u.mean(),2), 'Tamaño: ',y_u.shape[0], 'k: ',k)\n",
    "        print('Accuracy: ',round(metrics.accuracy_score(y_test, y_pred),3)) #ACCURACY\n",
    "        print('F1_Score : ',round(metrics.f1_score(y_test, y_pred),3)) #F1-SCORE\n",
    "        print('F_BETA-SCORE: ',round(metrics.fbeta_score(y_test, y_pred, beta=10),3)) #F_BETA-SCORE\n",
    "        print('Decision Tree ',target_percentage,'Media: ',round(y_u.mean(),3), 'Tamaño: ',y_u.shape[0], 'k: ',k)\n",
    "        print('Accuracy: ',round(metrics.accuracy_score(y_test, y_pred_a),3)) #ACCURACY\n",
    "        print('F1_Score : ',round(metrics.f1_score(y_test, y_pred_a),2)) #F1-SCORE\n",
    "        print('F_BETA-SCORE: ',round(metrics.fbeta_score(y_test, y_pred_a, beta=10),3)) #F_BETA-SCORE\n",
    "        print('Logistic ',target_percentage, 'Media: ',round(y_u.mean(),3), 'Tamaño: ',y_u.shape[0], 'k: ',k)\n",
    "        print('Accuracy: ',round(metrics.accuracy_score(y_test, y_pred_b),3)) #ACCURACY\n",
    "        print('F1_Score : ',round(metrics.f1_score(y_test, y_pred_b),3)) #F1-SCORE\n",
    "        print('F_BETA-SCORE: ',round(metrics.fbeta_score(y_test, y_pred_b, beta=10),3)) #F_BETA-SCORE"
   ]
  },
  {
   "cell_type": "markdown",
   "metadata": {},
   "source": [
    "# Exercise 15.5 (3 points)\n",
    "\n",
    "Evaluate the results using Adaptive Synthetic Sampling Approach for Imbalanced\n",
    "Learning (ADASYN)\n",
    "\n",
    "http://www.ele.uri.edu/faculty/he/PDFfiles/adasyn.pdf\n",
    "https://imbalanced-learn.readthedocs.io/en/stable/generated/imblearn.over_sampling.ADASYN.html#rf9172e970ca5-1"
   ]
  },
  {
   "cell_type": "code",
   "execution_count": 202,
   "metadata": {},
   "outputs": [
    {
     "data": {
      "image/png": "[encoded data removed]",
      "text/plain": [
       "<Figure size 360x360 with 1 Axes>"
      ]
     },
     "metadata": {
      "needs_background": "light"
     },
     "output_type": "display_data"
    },
    {
     "name": "stdout",
     "output_type": "stream",
     "text": [
      "Random Forest  Media:  0.5 Tamaño:  192927\n",
      "Accuracy:  0.991\n",
      "F1_Score :  0.13\n",
      "F_BETA-SCORE:  0.119\n",
      "Decision Tree  Media:  0.5 Tamaño:  192927\n",
      "Accuracy:  0.967\n",
      "F1_Score :  0.07\n",
      "F_BETA-SCORE:  0.208\n",
      "Logistic  Media:  0.5 Tamaño:  192927\n",
      "Accuracy:  0.333\n",
      "F1_Score :  0.016\n",
      "F_BETA-SCORE:  0.437\n"
     ]
    }
   ],
   "source": [
    "ada = ADASYN(random_state=42)\n",
    "X_u, y_u = ada.fit_resample(X_train, y_train)\n",
    "X_u_a, y_u_a = ada.fit_resample(X_train_a, y_train)\n",
    "plot_two_classes(X_res, y_res, size=(5, 5))\n",
    "plt.show()  \n",
    "rfc = RandomForestClassifier(n_estimators=300,max_features=15 , random_state=1, n_jobs=-1)\n",
    "treeclf = DecisionTreeClassifier(max_depth=19, random_state=1)\n",
    "logreg = LogisticRegression(solver='sag',max_iter =150) #cambio en parametros para lograr convergencia.\n",
    "treeclf.fit(X_u, y_u)\n",
    "rfc.fit(X_u, y_u)\n",
    "logreg.fit(X_u, y_u)\n",
    "y_pred=rfc.predict(X_test)\n",
    "y_pred_a = treeclf.predict(X_test)\n",
    "y_pred_b = logreg.predict(X_test)\n",
    "salid.append(['ADASYN','Random Forest',round(y_u.mean(),2),'Accuracy',round(metrics.accuracy_score(y_test, y_pred),3)])\n",
    "salid.append(['ADASYN','Random Forest',round(y_u.mean(),2),'F1_Score',round(metrics.accuracy_score(y_test, y_pred),3)])\n",
    "salid.append(['ADASYN','Random Forest',round(y_u.mean(),2),'F_BETA_SCORE',round(metrics.accuracy_score(y_test, y_pred),3)])\n",
    "salid.append(['ADASYN','DecisionTree',round(y_u.mean(),2),'Accuracy',round(metrics.accuracy_score(y_test, y_pred_a),3)])\n",
    "salid.append(['ADASYN','DecisionTree',round(y_u.mean(),2),'F1_Score',round(metrics.accuracy_score(y_test, y_pred_a),3)])\n",
    "salid.append(['ADASYN','DecisionTree',round(y_u.mean(),2),'F_BETA_SCORE',round(metrics.accuracy_score(y_test, y_pred_a),3)])\n",
    "salid.append(['ADASYN','Logistic',round(y_u.mean(),2),'Accuracy',round(metrics.accuracy_score(y_test, y_pred_b),3)])\n",
    "salid.append(['ADASYN','Logistic',round(y_u.mean(),2),'F1_Score',round(metrics.accuracy_score(y_test, y_pred_b),3)])\n",
    "salid.append(['ADASYN','Logistic',round(y_u.mean(),2),'F_BETA_SCORE',round(metrics.accuracy_score(y_test, y_pred_b),3)])\n",
    "print('Random Forest ', 'Media: ',round(y_u.mean(),2), 'Tamaño: ',y_u.shape[0])\n",
    "print('Accuracy: ',round(metrics.accuracy_score(y_test, y_pred),3)) #ACCURACY\n",
    "print('F1_Score : ',round(metrics.f1_score(y_test, y_pred),3)) #F1-SCORE\n",
    "print('F_BETA-SCORE: ',round(metrics.fbeta_score(y_test, y_pred, beta=10),3)) #F_BETA-SCORE\n",
    "print('Decision Tree ','Media: ',round(y_u.mean(),3), 'Tamaño: ',y_u.shape[0])\n",
    "print('Accuracy: ',round(metrics.accuracy_score(y_test, y_pred_a),3)) #ACCURACY\n",
    "print('F1_Score : ',round(metrics.f1_score(y_test, y_pred_a),2)) #F1-SCORE\n",
    "print('F_BETA-SCORE: ',round(metrics.fbeta_score(y_test, y_pred_a, beta=10),3)) #F_BETA-SCORE\n",
    "print('Logistic ', 'Media: ',round(y_u.mean(),3), 'Tamaño: ',y_u.shape[0])\n",
    "print('Accuracy: ',round(metrics.accuracy_score(y_test, y_pred_b),3)) #ACCURACY\n",
    "print('F1_Score : ',round(metrics.f1_score(y_test, y_pred_b),3)) #F1-SCORE\n",
    "print('F_BETA-SCORE: ',round(metrics.fbeta_score(y_test, y_pred_b, beta=10),3)) #F_BETA-SCORE"
   ]
  },
  {
   "cell_type": "markdown",
   "metadata": {},
   "source": [
    "# Exercise 15.6 (3 points)\n",
    "\n",
    "Compare and comment about the results.\n"
   ]
  },
  {
   "cell_type": "code",
   "execution_count": 203,
   "metadata": {},
   "outputs": [
    {
     "data": {
      "text/html": [
       "<div>\n",
       "<style scoped>\n",
       "    .dataframe tbody tr th:only-of-type {\n",
       "        vertical-align: middle;\n",
       "    }\n",
       "\n",
       "    .dataframe tbody tr th {\n",
       "        vertical-align: top;\n",
       "    }\n",
       "\n",
       "    .dataframe thead th {\n",
       "        text-align: right;\n",
       "    }\n",
       "</style>\n",
       "<table border=\"1\" class=\"dataframe\">\n",
       "  <thead>\n",
       "    <tr style=\"text-align: right;\">\n",
       "      <th></th>\n",
       "      <th>Tipo</th>\n",
       "      <th>Modelo</th>\n",
       "      <th>Porcentaje</th>\n",
       "      <th>Metrica</th>\n",
       "      <th>Valor</th>\n",
       "    </tr>\n",
       "  </thead>\n",
       "  <tbody>\n",
       "    <tr>\n",
       "      <th>0</th>\n",
       "      <td>UnderSampling</td>\n",
       "      <td>Random Forest</td>\n",
       "      <td>0.1</td>\n",
       "      <td>Accuracy</td>\n",
       "      <td>0.982</td>\n",
       "    </tr>\n",
       "    <tr>\n",
       "      <th>1</th>\n",
       "      <td>UnderSampling</td>\n",
       "      <td>Random Forest</td>\n",
       "      <td>0.1</td>\n",
       "      <td>F1_Score</td>\n",
       "      <td>0.982</td>\n",
       "    </tr>\n",
       "    <tr>\n",
       "      <th>2</th>\n",
       "      <td>UnderSampling</td>\n",
       "      <td>Random Forest</td>\n",
       "      <td>0.1</td>\n",
       "      <td>F_BETA_SCORE</td>\n",
       "      <td>0.982</td>\n",
       "    </tr>\n",
       "    <tr>\n",
       "      <th>3</th>\n",
       "      <td>UnderSampling</td>\n",
       "      <td>DecisionTree</td>\n",
       "      <td>0.1</td>\n",
       "      <td>Accuracy</td>\n",
       "      <td>0.936</td>\n",
       "    </tr>\n",
       "    <tr>\n",
       "      <th>4</th>\n",
       "      <td>UnderSampling</td>\n",
       "      <td>DecisionTree</td>\n",
       "      <td>0.1</td>\n",
       "      <td>F1_Score</td>\n",
       "      <td>0.936</td>\n",
       "    </tr>\n",
       "  </tbody>\n",
       "</table>\n",
       "</div>"
      ],
      "text/plain": [
       "            Tipo         Modelo  Porcentaje       Metrica  Valor\n",
       "0  UnderSampling  Random Forest         0.1      Accuracy  0.982\n",
       "1  UnderSampling  Random Forest         0.1      F1_Score  0.982\n",
       "2  UnderSampling  Random Forest         0.1  F_BETA_SCORE  0.982\n",
       "3  UnderSampling   DecisionTree         0.1      Accuracy  0.936\n",
       "4  UnderSampling   DecisionTree         0.1      F1_Score  0.936"
      ]
     },
     "execution_count": 203,
     "metadata": {},
     "output_type": "execute_result"
    }
   ],
   "source": [
    "resultados=pd.DataFrame(salid,columns=['Tipo','Modelo','Porcentaje','Metrica','Valor'])\n",
    "resultados.head()"
   ]
  },
  {
   "cell_type": "code",
   "execution_count": 204,
   "metadata": {},
   "outputs": [
    {
     "data": {
      "text/html": [
       "<div>\n",
       "<style scoped>\n",
       "    .dataframe tbody tr th:only-of-type {\n",
       "        vertical-align: middle;\n",
       "    }\n",
       "\n",
       "    .dataframe tbody tr th {\n",
       "        vertical-align: top;\n",
       "    }\n",
       "\n",
       "    .dataframe thead th {\n",
       "        text-align: right;\n",
       "    }\n",
       "</style>\n",
       "<table border=\"1\" class=\"dataframe\">\n",
       "  <thead>\n",
       "    <tr style=\"text-align: right;\">\n",
       "      <th></th>\n",
       "      <th></th>\n",
       "      <th>Metrica</th>\n",
       "      <th>Accuracy</th>\n",
       "      <th>F1_Score</th>\n",
       "      <th>F_BETA_SCORE</th>\n",
       "    </tr>\n",
       "    <tr>\n",
       "      <th>Tipo</th>\n",
       "      <th>Modelo</th>\n",
       "      <th>Porcentaje</th>\n",
       "      <th></th>\n",
       "      <th></th>\n",
       "      <th></th>\n",
       "    </tr>\n",
       "  </thead>\n",
       "  <tbody>\n",
       "    <tr>\n",
       "      <th rowspan=\"3\" valign=\"top\">ADASYN</th>\n",
       "      <th>DecisionTree</th>\n",
       "      <th>0.5</th>\n",
       "      <td>0.9670</td>\n",
       "      <td>0.9670</td>\n",
       "      <td>0.9670</td>\n",
       "    </tr>\n",
       "    <tr>\n",
       "      <th>Logistic</th>\n",
       "      <th>0.5</th>\n",
       "      <td>0.3330</td>\n",
       "      <td>0.3330</td>\n",
       "      <td>0.3330</td>\n",
       "    </tr>\n",
       "    <tr>\n",
       "      <th>Random Forest</th>\n",
       "      <th>0.5</th>\n",
       "      <td>0.9910</td>\n",
       "      <td>0.9910</td>\n",
       "      <td>0.9910</td>\n",
       "    </tr>\n",
       "    <tr>\n",
       "      <th rowspan=\"15\" valign=\"top\">OverSampling</th>\n",
       "      <th rowspan=\"5\" valign=\"top\">DecisionTree</th>\n",
       "      <th>0.1</th>\n",
       "      <td>0.9860</td>\n",
       "      <td>0.9860</td>\n",
       "      <td>0.9860</td>\n",
       "    </tr>\n",
       "    <tr>\n",
       "      <th>0.2</th>\n",
       "      <td>0.9820</td>\n",
       "      <td>0.9820</td>\n",
       "      <td>0.9820</td>\n",
       "    </tr>\n",
       "    <tr>\n",
       "      <th>0.3</th>\n",
       "      <td>0.9670</td>\n",
       "      <td>0.9670</td>\n",
       "      <td>0.9670</td>\n",
       "    </tr>\n",
       "    <tr>\n",
       "      <th>0.4</th>\n",
       "      <td>0.9700</td>\n",
       "      <td>0.9700</td>\n",
       "      <td>0.9700</td>\n",
       "    </tr>\n",
       "    <tr>\n",
       "      <th>0.5</th>\n",
       "      <td>0.9470</td>\n",
       "      <td>0.9470</td>\n",
       "      <td>0.9470</td>\n",
       "    </tr>\n",
       "    <tr>\n",
       "      <th rowspan=\"5\" valign=\"top\">Logistic</th>\n",
       "      <th>0.1</th>\n",
       "      <td>0.9940</td>\n",
       "      <td>0.9940</td>\n",
       "      <td>0.9940</td>\n",
       "    </tr>\n",
       "    <tr>\n",
       "      <th>0.2</th>\n",
       "      <td>0.9940</td>\n",
       "      <td>0.9940</td>\n",
       "      <td>0.9940</td>\n",
       "    </tr>\n",
       "    <tr>\n",
       "      <th>0.3</th>\n",
       "      <td>0.9800</td>\n",
       "      <td>0.9800</td>\n",
       "      <td>0.9800</td>\n",
       "    </tr>\n",
       "    <tr>\n",
       "      <th>0.4</th>\n",
       "      <td>0.3900</td>\n",
       "      <td>0.3900</td>\n",
       "      <td>0.3900</td>\n",
       "    </tr>\n",
       "    <tr>\n",
       "      <th>0.5</th>\n",
       "      <td>0.3240</td>\n",
       "      <td>0.3240</td>\n",
       "      <td>0.3240</td>\n",
       "    </tr>\n",
       "    <tr>\n",
       "      <th rowspan=\"5\" valign=\"top\">Random Forest</th>\n",
       "      <th>0.1</th>\n",
       "      <td>0.9930</td>\n",
       "      <td>0.9930</td>\n",
       "      <td>0.9930</td>\n",
       "    </tr>\n",
       "    <tr>\n",
       "      <th>0.2</th>\n",
       "      <td>0.9930</td>\n",
       "      <td>0.9930</td>\n",
       "      <td>0.9930</td>\n",
       "    </tr>\n",
       "    <tr>\n",
       "      <th>0.3</th>\n",
       "      <td>0.9930</td>\n",
       "      <td>0.9930</td>\n",
       "      <td>0.9930</td>\n",
       "    </tr>\n",
       "    <tr>\n",
       "      <th>0.4</th>\n",
       "      <td>0.9930</td>\n",
       "      <td>0.9930</td>\n",
       "      <td>0.9930</td>\n",
       "    </tr>\n",
       "    <tr>\n",
       "      <th>0.5</th>\n",
       "      <td>0.9920</td>\n",
       "      <td>0.9920</td>\n",
       "      <td>0.9920</td>\n",
       "    </tr>\n",
       "    <tr>\n",
       "      <th rowspan=\"15\" valign=\"top\">SMOTE</th>\n",
       "      <th rowspan=\"5\" valign=\"top\">DecisionTree</th>\n",
       "      <th>0.1</th>\n",
       "      <td>0.9880</td>\n",
       "      <td>0.9880</td>\n",
       "      <td>0.9880</td>\n",
       "    </tr>\n",
       "    <tr>\n",
       "      <th>0.2</th>\n",
       "      <td>0.9860</td>\n",
       "      <td>0.9860</td>\n",
       "      <td>0.9860</td>\n",
       "    </tr>\n",
       "    <tr>\n",
       "      <th>0.3</th>\n",
       "      <td>0.9855</td>\n",
       "      <td>0.9855</td>\n",
       "      <td>0.9855</td>\n",
       "    </tr>\n",
       "    <tr>\n",
       "      <th>0.4</th>\n",
       "      <td>0.9830</td>\n",
       "      <td>0.9830</td>\n",
       "      <td>0.9830</td>\n",
       "    </tr>\n",
       "    <tr>\n",
       "      <th>0.5</th>\n",
       "      <td>0.9790</td>\n",
       "      <td>0.9790</td>\n",
       "      <td>0.9790</td>\n",
       "    </tr>\n",
       "    <tr>\n",
       "      <th rowspan=\"5\" valign=\"top\">Logistic</th>\n",
       "      <th>0.1</th>\n",
       "      <td>0.9940</td>\n",
       "      <td>0.9940</td>\n",
       "      <td>0.9940</td>\n",
       "    </tr>\n",
       "    <tr>\n",
       "      <th>0.2</th>\n",
       "      <td>0.9940</td>\n",
       "      <td>0.9940</td>\n",
       "      <td>0.9940</td>\n",
       "    </tr>\n",
       "    <tr>\n",
       "      <th>0.3</th>\n",
       "      <td>0.9875</td>\n",
       "      <td>0.9875</td>\n",
       "      <td>0.9875</td>\n",
       "    </tr>\n",
       "    <tr>\n",
       "      <th>0.4</th>\n",
       "      <td>0.4310</td>\n",
       "      <td>0.4310</td>\n",
       "      <td>0.4310</td>\n",
       "    </tr>\n",
       "    <tr>\n",
       "      <th>0.5</th>\n",
       "      <td>0.3175</td>\n",
       "      <td>0.3175</td>\n",
       "      <td>0.3175</td>\n",
       "    </tr>\n",
       "    <tr>\n",
       "      <th rowspan=\"5\" valign=\"top\">Random Forest</th>\n",
       "      <th>0.1</th>\n",
       "      <td>0.9930</td>\n",
       "      <td>0.9930</td>\n",
       "      <td>0.9930</td>\n",
       "    </tr>\n",
       "    <tr>\n",
       "      <th>0.2</th>\n",
       "      <td>0.9930</td>\n",
       "      <td>0.9930</td>\n",
       "      <td>0.9930</td>\n",
       "    </tr>\n",
       "    <tr>\n",
       "      <th>0.3</th>\n",
       "      <td>0.9925</td>\n",
       "      <td>0.9925</td>\n",
       "      <td>0.9925</td>\n",
       "    </tr>\n",
       "    <tr>\n",
       "      <th>0.4</th>\n",
       "      <td>0.9915</td>\n",
       "      <td>0.9915</td>\n",
       "      <td>0.9915</td>\n",
       "    </tr>\n",
       "    <tr>\n",
       "      <th>0.5</th>\n",
       "      <td>0.9910</td>\n",
       "      <td>0.9910</td>\n",
       "      <td>0.9910</td>\n",
       "    </tr>\n",
       "    <tr>\n",
       "      <th rowspan=\"15\" valign=\"top\">UnderSampling</th>\n",
       "      <th rowspan=\"5\" valign=\"top\">DecisionTree</th>\n",
       "      <th>0.1</th>\n",
       "      <td>0.9360</td>\n",
       "      <td>0.9360</td>\n",
       "      <td>0.9360</td>\n",
       "    </tr>\n",
       "    <tr>\n",
       "      <th>0.2</th>\n",
       "      <td>0.8750</td>\n",
       "      <td>0.8750</td>\n",
       "      <td>0.8750</td>\n",
       "    </tr>\n",
       "    <tr>\n",
       "      <th>0.3</th>\n",
       "      <td>0.8160</td>\n",
       "      <td>0.8160</td>\n",
       "      <td>0.8160</td>\n",
       "    </tr>\n",
       "    <tr>\n",
       "      <th>0.4</th>\n",
       "      <td>0.7530</td>\n",
       "      <td>0.7530</td>\n",
       "      <td>0.7530</td>\n",
       "    </tr>\n",
       "    <tr>\n",
       "      <th>0.5</th>\n",
       "      <td>0.6710</td>\n",
       "      <td>0.6710</td>\n",
       "      <td>0.6710</td>\n",
       "    </tr>\n",
       "    <tr>\n",
       "      <th rowspan=\"5\" valign=\"top\">Logistic</th>\n",
       "      <th>0.1</th>\n",
       "      <td>0.9940</td>\n",
       "      <td>0.9940</td>\n",
       "      <td>0.9940</td>\n",
       "    </tr>\n",
       "    <tr>\n",
       "      <th>0.2</th>\n",
       "      <td>0.9940</td>\n",
       "      <td>0.9940</td>\n",
       "      <td>0.9940</td>\n",
       "    </tr>\n",
       "    <tr>\n",
       "      <th>0.3</th>\n",
       "      <td>0.9640</td>\n",
       "      <td>0.9640</td>\n",
       "      <td>0.9640</td>\n",
       "    </tr>\n",
       "    <tr>\n",
       "      <th>0.4</th>\n",
       "      <td>0.3700</td>\n",
       "      <td>0.3700</td>\n",
       "      <td>0.3700</td>\n",
       "    </tr>\n",
       "    <tr>\n",
       "      <th>0.5</th>\n",
       "      <td>0.3200</td>\n",
       "      <td>0.3200</td>\n",
       "      <td>0.3200</td>\n",
       "    </tr>\n",
       "    <tr>\n",
       "      <th rowspan=\"5\" valign=\"top\">Random Forest</th>\n",
       "      <th>0.1</th>\n",
       "      <td>0.9820</td>\n",
       "      <td>0.9820</td>\n",
       "      <td>0.9820</td>\n",
       "    </tr>\n",
       "    <tr>\n",
       "      <th>0.2</th>\n",
       "      <td>0.9500</td>\n",
       "      <td>0.9500</td>\n",
       "      <td>0.9500</td>\n",
       "    </tr>\n",
       "    <tr>\n",
       "      <th>0.3</th>\n",
       "      <td>0.8900</td>\n",
       "      <td>0.8900</td>\n",
       "      <td>0.8900</td>\n",
       "    </tr>\n",
       "    <tr>\n",
       "      <th>0.4</th>\n",
       "      <td>0.8270</td>\n",
       "      <td>0.8270</td>\n",
       "      <td>0.8270</td>\n",
       "    </tr>\n",
       "    <tr>\n",
       "      <th>0.5</th>\n",
       "      <td>0.7560</td>\n",
       "      <td>0.7560</td>\n",
       "      <td>0.7560</td>\n",
       "    </tr>\n",
       "  </tbody>\n",
       "</table>\n",
       "</div>"
      ],
      "text/plain": [
       "Metrica                                 Accuracy  F1_Score  F_BETA_SCORE\n",
       "Tipo          Modelo        Porcentaje                                  \n",
       "ADASYN        DecisionTree  0.5           0.9670    0.9670        0.9670\n",
       "              Logistic      0.5           0.3330    0.3330        0.3330\n",
       "              Random Forest 0.5           0.9910    0.9910        0.9910\n",
       "OverSampling  DecisionTree  0.1           0.9860    0.9860        0.9860\n",
       "                            0.2           0.9820    0.9820        0.9820\n",
       "                            0.3           0.9670    0.9670        0.9670\n",
       "                            0.4           0.9700    0.9700        0.9700\n",
       "                            0.5           0.9470    0.9470        0.9470\n",
       "              Logistic      0.1           0.9940    0.9940        0.9940\n",
       "                            0.2           0.9940    0.9940        0.9940\n",
       "                            0.3           0.9800    0.9800        0.9800\n",
       "                            0.4           0.3900    0.3900        0.3900\n",
       "                            0.5           0.3240    0.3240        0.3240\n",
       "              Random Forest 0.1           0.9930    0.9930        0.9930\n",
       "                            0.2           0.9930    0.9930        0.9930\n",
       "                            0.3           0.9930    0.9930        0.9930\n",
       "                            0.4           0.9930    0.9930        0.9930\n",
       "                            0.5           0.9920    0.9920        0.9920\n",
       "SMOTE         DecisionTree  0.1           0.9880    0.9880        0.9880\n",
       "                            0.2           0.9860    0.9860        0.9860\n",
       "                            0.3           0.9855    0.9855        0.9855\n",
       "                            0.4           0.9830    0.9830        0.9830\n",
       "                            0.5           0.9790    0.9790        0.9790\n",
       "              Logistic      0.1           0.9940    0.9940        0.9940\n",
       "                            0.2           0.9940    0.9940        0.9940\n",
       "                            0.3           0.9875    0.9875        0.9875\n",
       "                            0.4           0.4310    0.4310        0.4310\n",
       "                            0.5           0.3175    0.3175        0.3175\n",
       "              Random Forest 0.1           0.9930    0.9930        0.9930\n",
       "                            0.2           0.9930    0.9930        0.9930\n",
       "                            0.3           0.9925    0.9925        0.9925\n",
       "                            0.4           0.9915    0.9915        0.9915\n",
       "                            0.5           0.9910    0.9910        0.9910\n",
       "UnderSampling DecisionTree  0.1           0.9360    0.9360        0.9360\n",
       "                            0.2           0.8750    0.8750        0.8750\n",
       "                            0.3           0.8160    0.8160        0.8160\n",
       "                            0.4           0.7530    0.7530        0.7530\n",
       "                            0.5           0.6710    0.6710        0.6710\n",
       "              Logistic      0.1           0.9940    0.9940        0.9940\n",
       "                            0.2           0.9940    0.9940        0.9940\n",
       "                            0.3           0.9640    0.9640        0.9640\n",
       "                            0.4           0.3700    0.3700        0.3700\n",
       "                            0.5           0.3200    0.3200        0.3200\n",
       "              Random Forest 0.1           0.9820    0.9820        0.9820\n",
       "                            0.2           0.9500    0.9500        0.9500\n",
       "                            0.3           0.8900    0.8900        0.8900\n",
       "                            0.4           0.8270    0.8270        0.8270\n",
       "                            0.5           0.7560    0.7560        0.7560"
      ]
     },
     "execution_count": 204,
     "metadata": {},
     "output_type": "execute_result"
    }
   ],
   "source": [
    "table = pd.pivot_table(resultados, values='Valor', index=['Tipo','Modelo','Porcentaje'], columns=['Metrica'], aggfunc=np.mean)\n",
    "table"
   ]
  },
  {
   "cell_type": "code",
   "execution_count": null,
   "metadata": {},
   "outputs": [],
   "source": []
  }
 ],
 "metadata": {
  "kernelspec": {
   "display_name": "Python 3",
   "language": "python",
   "name": "python3"
  },
  "language_info": {
   "codemirror_mode": {
    "name": "ipython",
    "version": 3
   },
   "file_extension": ".py",
   "mimetype": "text/x-python",
   "name": "python",
   "nbconvert_exporter": "python",
   "pygments_lexer": "ipython3",
   "version": "3.7.1"
  }
 },
 "nbformat": 4,
 "nbformat_minor": 1
}
